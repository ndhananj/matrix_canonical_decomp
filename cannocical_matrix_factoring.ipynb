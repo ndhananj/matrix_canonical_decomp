{
 "cells": [
  {
   "cell_type": "code",
   "execution_count": 1,
   "id": "ef8053f4-b0cc-42fe-84f8-d3fdfed8c9e9",
   "metadata": {},
   "outputs": [
    {
     "name": "stdout",
     "output_type": "stream",
     "text": [
      "Requirement already satisfied: sympy in /mnt/fdbd0f14-dc7f-4c3c-85a2-7e247245789d/nithin/nithin/anaconda3/lib/python3.10/site-packages (1.11.1)\n",
      "Requirement already satisfied: mpmath>=0.19 in /mnt/fdbd0f14-dc7f-4c3c-85a2-7e247245789d/nithin/nithin/anaconda3/lib/python3.10/site-packages (from sympy) (1.3.0)\n"
     ]
    }
   ],
   "source": [
    "!pip install sympy"
   ]
  },
  {
   "cell_type": "markdown",
   "id": "54b6ff40-a00c-44b5-8d0f-131e02d53974",
   "metadata": {},
   "source": [
    "# Let's see if we can get a cannonical factoring of some random matrices"
   ]
  },
  {
   "cell_type": "markdown",
   "id": "6e04a064-d144-4df1-bc81-eae74a444246",
   "metadata": {},
   "source": [
    "## Get a random matrix and some information about it"
   ]
  },
  {
   "cell_type": "code",
   "execution_count": 73,
   "id": "76d282f3-f16b-4eb8-bf09-c76ae86cb037",
   "metadata": {},
   "outputs": [
    {
     "data": {
      "text/latex": [
       "$\\displaystyle \\left[\\begin{matrix}37 & 24 & 28 & 9\\\\16 & 54 & 76 & 59\\\\19 & 39 & 78 & 32\\\\38 & 95 & 77 & 32\\\\44 & 52 & 65 & 70\\\\93 & 44 & 14 & 1\\\\99 & 61 & 83 & 24\\\\57 & 66 & 22 & 64\\end{matrix}\\right]$"
      ],
      "text/plain": [
       "⎡37  24  28  9 ⎤\n",
       "⎢              ⎥\n",
       "⎢16  54  76  59⎥\n",
       "⎢              ⎥\n",
       "⎢19  39  78  32⎥\n",
       "⎢              ⎥\n",
       "⎢38  95  77  32⎥\n",
       "⎢              ⎥\n",
       "⎢44  52  65  70⎥\n",
       "⎢              ⎥\n",
       "⎢93  44  14  1 ⎥\n",
       "⎢              ⎥\n",
       "⎢99  61  83  24⎥\n",
       "⎢              ⎥\n",
       "⎣57  66  22  64⎦"
      ]
     },
     "execution_count": 73,
     "metadata": {},
     "output_type": "execute_result"
    }
   ],
   "source": [
    "from sympy import randMatrix, init_printing\n",
    "init_printing(use_unicode=True)\n",
    "import random\n",
    "# you can change the conditions to make the types of shapes of matrices you want\n",
    "n = random.randint(2,4)\n",
    "m = n + random.randint(2,4)\n",
    "A = randMatrix(m,n)\n",
    "A"
   ]
  },
  {
   "cell_type": "code",
   "execution_count": 74,
   "id": "aebc4862-bd0e-4bb8-8bfa-b47d03a45d27",
   "metadata": {},
   "outputs": [
    {
     "data": {
      "image/png": "[encoded data removed]",
      "text/latex": [
       "$\\displaystyle \\left( 8, \\  4\\right)$"
      ],
      "text/plain": [
       "(8, 4)"
      ]
     },
     "execution_count": 74,
     "metadata": {},
     "output_type": "execute_result"
    }
   ],
   "source": [
    "from sympy import shape\n",
    "dims = shape(A)\n",
    "dims"
   ]
  },
  {
   "cell_type": "code",
   "execution_count": 75,
   "id": "5e27b16b-1f22-47d5-8537-f9f89be0c22c",
   "metadata": {},
   "outputs": [
    {
     "data": {
      "image/png": "[encoded data removed]",
      "text/latex": [
       "$\\displaystyle 4$"
      ],
      "text/plain": [
       "4"
      ]
     },
     "execution_count": 75,
     "metadata": {},
     "output_type": "execute_result"
    }
   ],
   "source": [
    "r=A.rank()\n",
    "r"
   ]
  },
  {
   "cell_type": "code",
   "execution_count": 76,
   "id": "d6774908-bb91-4ada-9420-b4e6da6a5636",
   "metadata": {},
   "outputs": [
    {
     "data": {
      "image/png": "[encoded data removed]",
      "text/latex": [
       "$\\displaystyle 0$"
      ],
      "text/plain": [
       "0"
      ]
     },
     "execution_count": 76,
     "metadata": {},
     "output_type": "execute_result"
    }
   ],
   "source": [
    "# get nullity\n",
    "from sympy import shape\n",
    "k = dims[1] - A.rank()\n",
    "k"
   ]
  },
  {
   "cell_type": "code",
   "execution_count": 77,
   "id": "4b07d18a-6080-4ff8-8d1c-4cda2db024bc",
   "metadata": {},
   "outputs": [
    {
     "data": {
      "image/png": "[encoded data removed]",
      "text/latex": [
       "$\\displaystyle 0$"
      ],
      "text/plain": [
       "0"
      ]
     },
     "execution_count": 77,
     "metadata": {},
     "output_type": "execute_result"
    }
   ],
   "source": [
    "# get nullity\n",
    "from sympy import shape\n",
    "k = dims[1] - A.rank()\n",
    "k"
   ]
  },
  {
   "cell_type": "markdown",
   "id": "90f942f9-ac01-4ebd-86cc-9a07a01b991a",
   "metadata": {},
   "source": [
    "## Find some relavent sub-spaces through sympy built-ins"
   ]
  },
  {
   "cell_type": "markdown",
   "id": "1001037a-fd43-4443-ab53-4fae720a317f",
   "metadata": {},
   "source": [
    "### Column Space"
   ]
  },
  {
   "cell_type": "code",
   "execution_count": 78,
   "id": "68a2ca48-97c4-4d50-9a47-d6b771bdcc9f",
   "metadata": {},
   "outputs": [
    {
     "data": {
      "text/latex": [
       "$\\displaystyle \\left[ \\left[\\begin{matrix}37\\\\16\\\\19\\\\38\\\\44\\\\93\\\\99\\\\57\\end{matrix}\\right], \\  \\left[\\begin{matrix}24\\\\54\\\\39\\\\95\\\\52\\\\44\\\\61\\\\66\\end{matrix}\\right], \\  \\left[\\begin{matrix}28\\\\76\\\\78\\\\77\\\\65\\\\14\\\\83\\\\22\\end{matrix}\\right], \\  \\left[\\begin{matrix}9\\\\59\\\\32\\\\32\\\\70\\\\1\\\\24\\\\64\\end{matrix}\\right]\\right]$"
      ],
      "text/plain": [
       "⎡⎡37⎤  ⎡24⎤  ⎡28⎤  ⎡9 ⎤⎤\n",
       "⎢⎢  ⎥  ⎢  ⎥  ⎢  ⎥  ⎢  ⎥⎥\n",
       "⎢⎢16⎥  ⎢54⎥  ⎢76⎥  ⎢59⎥⎥\n",
       "⎢⎢  ⎥  ⎢  ⎥  ⎢  ⎥  ⎢  ⎥⎥\n",
       "⎢⎢19⎥  ⎢39⎥  ⎢78⎥  ⎢32⎥⎥\n",
       "⎢⎢  ⎥  ⎢  ⎥  ⎢  ⎥  ⎢  ⎥⎥\n",
       "⎢⎢38⎥  ⎢95⎥  ⎢77⎥  ⎢32⎥⎥\n",
       "⎢⎢  ⎥, ⎢  ⎥, ⎢  ⎥, ⎢  ⎥⎥\n",
       "⎢⎢44⎥  ⎢52⎥  ⎢65⎥  ⎢70⎥⎥\n",
       "⎢⎢  ⎥  ⎢  ⎥  ⎢  ⎥  ⎢  ⎥⎥\n",
       "⎢⎢93⎥  ⎢44⎥  ⎢14⎥  ⎢1 ⎥⎥\n",
       "⎢⎢  ⎥  ⎢  ⎥  ⎢  ⎥  ⎢  ⎥⎥\n",
       "⎢⎢99⎥  ⎢61⎥  ⎢83⎥  ⎢24⎥⎥\n",
       "⎢⎢  ⎥  ⎢  ⎥  ⎢  ⎥  ⎢  ⎥⎥\n",
       "⎣⎣57⎦  ⎣66⎦  ⎣22⎦  ⎣64⎦⎦"
      ]
     },
     "execution_count": 78,
     "metadata": {},
     "output_type": "execute_result"
    }
   ],
   "source": [
    "col_space = A.columnspace()\n",
    "col_space"
   ]
  },
  {
   "cell_type": "markdown",
   "id": "de0ecb65-d92b-4a5a-a87e-3162cd20552d",
   "metadata": {},
   "source": [
    "### Null Space"
   ]
  },
  {
   "cell_type": "code",
   "execution_count": 79,
   "id": "0ee5d144-e65e-49bb-9e8f-0348867a3ae7",
   "metadata": {},
   "outputs": [
    {
     "data": {
      "image/png": "[encoded data removed]",
      "text/latex": [
       "$\\displaystyle \\left[ \\right]$"
      ],
      "text/plain": [
       "[]"
      ]
     },
     "execution_count": 79,
     "metadata": {},
     "output_type": "execute_result"
    }
   ],
   "source": [
    "null_space = A.nullspace()\n",
    "null_space"
   ]
  },
  {
   "cell_type": "markdown",
   "id": "4268ff3e-de21-4607-8b37-b6be3f44755b",
   "metadata": {},
   "source": [
    "### Row Space"
   ]
  },
  {
   "cell_type": "markdown",
   "id": "0ff90089-125a-4c8e-8d29-362deb428a63",
   "metadata": {},
   "source": [
    "Not the nicest way to get the row space since we know the pivot columns of RREF forms a basis"
   ]
  },
  {
   "cell_type": "code",
   "execution_count": 80,
   "id": "8a496bdb-08a9-41d0-a0b4-0f62f3bd99de",
   "metadata": {},
   "outputs": [
    {
     "data": {
      "text/latex": [
       "$\\displaystyle \\left[ \\left[\\begin{matrix}37\\\\24\\\\28\\\\9\\end{matrix}\\right], \\  \\left[\\begin{matrix}16\\\\54\\\\76\\\\59\\end{matrix}\\right], \\  \\left[\\begin{matrix}19\\\\39\\\\78\\\\32\\end{matrix}\\right], \\  \\left[\\begin{matrix}38\\\\95\\\\77\\\\32\\end{matrix}\\right]\\right]$"
      ],
      "text/plain": [
       "⎡⎡37⎤  ⎡16⎤  ⎡19⎤  ⎡38⎤⎤\n",
       "⎢⎢  ⎥  ⎢  ⎥  ⎢  ⎥  ⎢  ⎥⎥\n",
       "⎢⎢24⎥  ⎢54⎥  ⎢39⎥  ⎢95⎥⎥\n",
       "⎢⎢  ⎥, ⎢  ⎥, ⎢  ⎥, ⎢  ⎥⎥\n",
       "⎢⎢28⎥  ⎢76⎥  ⎢78⎥  ⎢77⎥⎥\n",
       "⎢⎢  ⎥  ⎢  ⎥  ⎢  ⎥  ⎢  ⎥⎥\n",
       "⎣⎣9 ⎦  ⎣59⎦  ⎣32⎦  ⎣32⎦⎦"
      ]
     },
     "execution_count": 80,
     "metadata": {},
     "output_type": "execute_result"
    }
   ],
   "source": [
    "row_space = A.T.columnspace()\n",
    "row_space"
   ]
  },
  {
   "cell_type": "markdown",
   "id": "b4cc4340-90d0-438e-95fa-66aad8b51bf5",
   "metadata": {},
   "source": [
    "## Get the Reduced Row Echelon Form"
   ]
  },
  {
   "cell_type": "markdown",
   "id": "17dc24b6-0d8f-4c16-9a9d-8455b7d5f653",
   "metadata": {},
   "source": [
    "Let's see what we can do with Reduced Row Echelon Form"
   ]
  },
  {
   "cell_type": "code",
   "execution_count": 81,
   "id": "c2479cdb-5f27-45b2-a520-3b1bbe9e9c3e",
   "metadata": {},
   "outputs": [
    {
     "data": {
      "text/latex": [
       "$\\displaystyle \\left( \\left[\\begin{matrix}1 & 0 & 0 & 0\\\\0 & 1 & 0 & 0\\\\0 & 0 & 1 & 0\\\\0 & 0 & 0 & 1\\\\0 & 0 & 0 & 0\\\\0 & 0 & 0 & 0\\\\0 & 0 & 0 & 0\\\\0 & 0 & 0 & 0\\end{matrix}\\right], \\  \\left( 0, \\  1, \\  2, \\  3\\right)\\right)$"
      ],
      "text/plain": [
       "⎛⎡1  0  0  0⎤              ⎞\n",
       "⎜⎢          ⎥              ⎟\n",
       "⎜⎢0  1  0  0⎥              ⎟\n",
       "⎜⎢          ⎥              ⎟\n",
       "⎜⎢0  0  1  0⎥              ⎟\n",
       "⎜⎢          ⎥              ⎟\n",
       "⎜⎢0  0  0  1⎥              ⎟\n",
       "⎜⎢          ⎥, (0, 1, 2, 3)⎟\n",
       "⎜⎢0  0  0  0⎥              ⎟\n",
       "⎜⎢          ⎥              ⎟\n",
       "⎜⎢0  0  0  0⎥              ⎟\n",
       "⎜⎢          ⎥              ⎟\n",
       "⎜⎢0  0  0  0⎥              ⎟\n",
       "⎜⎢          ⎥              ⎟\n",
       "⎝⎣0  0  0  0⎦              ⎠"
      ]
     },
     "execution_count": 81,
     "metadata": {},
     "output_type": "execute_result"
    }
   ],
   "source": [
    "from sympy import Matrix\n",
    "B,idx=Matrix.rref(A)\n",
    "B,idx"
   ]
  },
  {
   "cell_type": "markdown",
   "id": "3b44058f-368e-42bf-8984-f08722323023",
   "metadata": {},
   "source": [
    "### Column Space Again"
   ]
  },
  {
   "cell_type": "code",
   "execution_count": 82,
   "id": "f6c8f1d9-8a32-411c-8460-c4e45143fb6f",
   "metadata": {},
   "outputs": [
    {
     "data": {
      "text/latex": [
       "$\\displaystyle \\left[\\begin{matrix}37 & 24 & 28 & 9\\\\16 & 54 & 76 & 59\\\\19 & 39 & 78 & 32\\\\38 & 95 & 77 & 32\\\\44 & 52 & 65 & 70\\\\93 & 44 & 14 & 1\\\\99 & 61 & 83 & 24\\\\57 & 66 & 22 & 64\\end{matrix}\\right]$"
      ],
      "text/plain": [
       "⎡37  24  28  9 ⎤\n",
       "⎢              ⎥\n",
       "⎢16  54  76  59⎥\n",
       "⎢              ⎥\n",
       "⎢19  39  78  32⎥\n",
       "⎢              ⎥\n",
       "⎢38  95  77  32⎥\n",
       "⎢              ⎥\n",
       "⎢44  52  65  70⎥\n",
       "⎢              ⎥\n",
       "⎢93  44  14  1 ⎥\n",
       "⎢              ⎥\n",
       "⎢99  61  83  24⎥\n",
       "⎢              ⎥\n",
       "⎣57  66  22  64⎦"
      ]
     },
     "execution_count": 82,
     "metadata": {},
     "output_type": "execute_result"
    }
   ],
   "source": [
    "cs_rref=A[:,idx]\n",
    "cs_rref"
   ]
  },
  {
   "cell_type": "markdown",
   "id": "7ac4fbef-9168-4800-8a2f-041b8efdcee8",
   "metadata": {},
   "source": [
    "### Row Space Again"
   ]
  },
  {
   "cell_type": "code",
   "execution_count": 83,
   "id": "e58725c1-5d3f-4f5f-b138-e662e189a875",
   "metadata": {},
   "outputs": [
    {
     "data": {
      "text/latex": [
       "$\\displaystyle \\left[ \\left[\\begin{matrix}1\\\\0\\\\0\\\\0\\end{matrix}\\right], \\  \\left[\\begin{matrix}0\\\\1\\\\0\\\\0\\end{matrix}\\right], \\  \\left[\\begin{matrix}0\\\\0\\\\1\\\\0\\end{matrix}\\right], \\  \\left[\\begin{matrix}0\\\\0\\\\0\\\\1\\end{matrix}\\right]\\right]$"
      ],
      "text/plain": [
       "⎡⎡1⎤  ⎡0⎤  ⎡0⎤  ⎡0⎤⎤\n",
       "⎢⎢ ⎥  ⎢ ⎥  ⎢ ⎥  ⎢ ⎥⎥\n",
       "⎢⎢0⎥  ⎢1⎥  ⎢0⎥  ⎢0⎥⎥\n",
       "⎢⎢ ⎥, ⎢ ⎥, ⎢ ⎥, ⎢ ⎥⎥\n",
       "⎢⎢0⎥  ⎢0⎥  ⎢1⎥  ⎢0⎥⎥\n",
       "⎢⎢ ⎥  ⎢ ⎥  ⎢ ⎥  ⎢ ⎥⎥\n",
       "⎣⎣0⎦  ⎣0⎦  ⎣0⎦  ⎣1⎦⎦"
      ]
     },
     "execution_count": 83,
     "metadata": {},
     "output_type": "execute_result"
    }
   ],
   "source": [
    "rs_rref=[B[i,:].T for i in range(r)]\n",
    "rs_rref"
   ]
  },
  {
   "cell_type": "markdown",
   "id": "32d17feb-8b91-4974-86f4-369ff56e28b0",
   "metadata": {},
   "source": [
    "### Check orthogonality of row space and null space bases"
   ]
  },
  {
   "cell_type": "code",
   "execution_count": 84,
   "id": "020b12df-4b5f-4cc0-9b9f-c3bf3e700271",
   "metadata": {},
   "outputs": [
    {
     "data": {
      "image/png": "[encoded data removed]",
      "text/latex": [
       "$\\displaystyle \\left[ \\left[ \\right], \\  \\left[ \\right], \\  \\left[ \\right], \\  \\left[ \\right]\\right]$"
      ],
      "text/plain": [
       "[[], [], [], []]"
      ]
     },
     "execution_count": 84,
     "metadata": {},
     "output_type": "execute_result"
    }
   ],
   "source": [
    "[[rs_rref[s].dot(null_space[l]) for l in range(k)] for s in range(r)]"
   ]
  },
  {
   "cell_type": "code",
   "execution_count": 85,
   "id": "219109a8-59c9-4433-89ac-fd16a692c53b",
   "metadata": {},
   "outputs": [
    {
     "data": {
      "image/png": "[encoded data removed]",
      "text/latex": [
       "$\\displaystyle \\left[ \\left[ \\right], \\  \\left[ \\right], \\  \\left[ \\right], \\  \\left[ \\right]\\right]$"
      ],
      "text/plain": [
       "[[], [], [], []]"
      ]
     },
     "execution_count": 85,
     "metadata": {},
     "output_type": "execute_result"
    }
   ],
   "source": [
    "[[row_space[s].dot(null_space[l]) for l in range(k)] for s in range(r)]"
   ]
  },
  {
   "cell_type": "markdown",
   "id": "a0cff4d8-afb1-47f0-bf0b-00a20163f16e",
   "metadata": {},
   "source": [
    "## Orthonormality through Gram Schimdt will help with projections, and inverse-like behavior from transposes"
   ]
  },
  {
   "cell_type": "code",
   "execution_count": 86,
   "id": "927fd392-bb15-4b86-8bcf-061d76efa607",
   "metadata": {},
   "outputs": [],
   "source": [
    "from sympy import GramSchmidt"
   ]
  },
  {
   "cell_type": "markdown",
   "id": "4aeec893-398e-4632-927e-e27e4ab2706a",
   "metadata": {},
   "source": [
    "### Col Space Again"
   ]
  },
  {
   "cell_type": "code",
   "execution_count": 87,
   "id": "22ad8f79-6009-4f07-8470-7c3cff4834cb",
   "metadata": {},
   "outputs": [
    {
     "data": {
      "text/latex": [
       "$\\displaystyle \\left[ \\left[\\begin{matrix}0.225\\\\0.0973\\\\0.115\\\\0.231\\\\0.267\\\\0.565\\\\0.602\\\\0.346\\end{matrix}\\right], \\  \\left[\\begin{matrix}-0.0705\\\\0.445\\\\0.255\\\\0.695\\\\0.172\\\\-0.355\\\\-0.224\\\\0.208\\end{matrix}\\right], \\  \\left[\\begin{matrix}0.0948\\\\0.274\\\\0.518\\\\-0.255\\\\0.203\\\\-0.281\\\\0.407\\\\-0.545\\end{matrix}\\right], \\  \\left[\\begin{matrix}-0.0631\\\\0.234\\\\-0.0536\\\\-0.565\\\\0.563\\\\-0.172\\\\-0.162\\\\0.497\\end{matrix}\\right]\\right]$"
      ],
      "text/plain": [
       "⎡⎡0.225 ⎤  ⎡-0.0705⎤  ⎡0.0948⎤  ⎡-0.0631⎤⎤\n",
       "⎢⎢      ⎥  ⎢       ⎥  ⎢      ⎥  ⎢       ⎥⎥\n",
       "⎢⎢0.0973⎥  ⎢ 0.445 ⎥  ⎢0.274 ⎥  ⎢ 0.234 ⎥⎥\n",
       "⎢⎢      ⎥  ⎢       ⎥  ⎢      ⎥  ⎢       ⎥⎥\n",
       "⎢⎢0.115 ⎥  ⎢ 0.255 ⎥  ⎢0.518 ⎥  ⎢-0.0536⎥⎥\n",
       "⎢⎢      ⎥  ⎢       ⎥  ⎢      ⎥  ⎢       ⎥⎥\n",
       "⎢⎢0.231 ⎥  ⎢ 0.695 ⎥  ⎢-0.255⎥  ⎢-0.565 ⎥⎥\n",
       "⎢⎢      ⎥, ⎢       ⎥, ⎢      ⎥, ⎢       ⎥⎥\n",
       "⎢⎢0.267 ⎥  ⎢ 0.172 ⎥  ⎢0.203 ⎥  ⎢ 0.563 ⎥⎥\n",
       "⎢⎢      ⎥  ⎢       ⎥  ⎢      ⎥  ⎢       ⎥⎥\n",
       "⎢⎢0.565 ⎥  ⎢-0.355 ⎥  ⎢-0.281⎥  ⎢-0.172 ⎥⎥\n",
       "⎢⎢      ⎥  ⎢       ⎥  ⎢      ⎥  ⎢       ⎥⎥\n",
       "⎢⎢0.602 ⎥  ⎢-0.224 ⎥  ⎢0.407 ⎥  ⎢-0.162 ⎥⎥\n",
       "⎢⎢      ⎥  ⎢       ⎥  ⎢      ⎥  ⎢       ⎥⎥\n",
       "⎣⎣0.346 ⎦  ⎣ 0.208 ⎦  ⎣-0.545⎦  ⎣ 0.497 ⎦⎦"
      ]
     },
     "execution_count": 87,
     "metadata": {},
     "output_type": "execute_result"
    }
   ],
   "source": [
    "cs_gs = GramSchmidt(col_space, True)\n",
    "# to display okay round to 3 decimals\n",
    "[cs_gs[s].evalf(3) for s in range(r)]"
   ]
  },
  {
   "cell_type": "markdown",
   "id": "37ca80ec-9617-48a3-904c-771895ffe054",
   "metadata": {},
   "source": [
    "#### Check Orthonormality"
   ]
  },
  {
   "cell_type": "code",
   "execution_count": 88,
   "id": "a901a033-bf84-4523-a2a7-4ad70f672826",
   "metadata": {},
   "outputs": [
    {
     "data": {
      "text/latex": [
       "$\\displaystyle \\left[\\begin{matrix}1 & 0 & 0 & 0\\\\0 & 1 & 0 & 0\\\\0 & 0 & 1 & 0\\\\0 & 0 & 0 & 1\\end{matrix}\\right]$"
      ],
      "text/plain": [
       "⎡1  0  0  0⎤\n",
       "⎢          ⎥\n",
       "⎢0  1  0  0⎥\n",
       "⎢          ⎥\n",
       "⎢0  0  1  0⎥\n",
       "⎢          ⎥\n",
       "⎣0  0  0  1⎦"
      ]
     },
     "execution_count": 88,
     "metadata": {},
     "output_type": "execute_result"
    }
   ],
   "source": [
    "Matrix([[cs_gs[s1].dot(cs_gs[s2]) for s1 in range(r)] for s2 in range(r)])"
   ]
  },
  {
   "cell_type": "markdown",
   "id": "7115a711-94cf-4354-b7bb-1657cd81c07f",
   "metadata": {},
   "source": [
    "### Row Space Again"
   ]
  },
  {
   "cell_type": "code",
   "execution_count": 89,
   "id": "1c349db8-a856-4de6-b860-68e1f26e7c73",
   "metadata": {},
   "outputs": [
    {
     "data": {
      "text/latex": [
       "$\\displaystyle \\left[ \\left[\\begin{matrix}1.0\\\\0\\\\0\\\\0\\end{matrix}\\right], \\  \\left[\\begin{matrix}0\\\\1.0\\\\0\\\\0\\end{matrix}\\right], \\  \\left[\\begin{matrix}0\\\\0\\\\1.0\\\\0\\end{matrix}\\right], \\  \\left[\\begin{matrix}0\\\\0\\\\0\\\\1.0\\end{matrix}\\right]\\right]$"
      ],
      "text/plain": [
       "⎡⎡1.0⎤  ⎡ 0 ⎤  ⎡ 0 ⎤  ⎡ 0 ⎤⎤\n",
       "⎢⎢   ⎥  ⎢   ⎥  ⎢   ⎥  ⎢   ⎥⎥\n",
       "⎢⎢ 0 ⎥  ⎢1.0⎥  ⎢ 0 ⎥  ⎢ 0 ⎥⎥\n",
       "⎢⎢   ⎥, ⎢   ⎥, ⎢   ⎥, ⎢   ⎥⎥\n",
       "⎢⎢ 0 ⎥  ⎢ 0 ⎥  ⎢1.0⎥  ⎢ 0 ⎥⎥\n",
       "⎢⎢   ⎥  ⎢   ⎥  ⎢   ⎥  ⎢   ⎥⎥\n",
       "⎣⎣ 0 ⎦  ⎣ 0 ⎦  ⎣ 0 ⎦  ⎣1.0⎦⎦"
      ]
     },
     "execution_count": 89,
     "metadata": {},
     "output_type": "execute_result"
    }
   ],
   "source": [
    "rs_gs = GramSchmidt(rs_rref, True)\n",
    "# to display okay round to 3 decimals\n",
    "[rs_gs[s].evalf(3) for s in range(r)]"
   ]
  },
  {
   "cell_type": "markdown",
   "id": "700d858c-776c-4d3f-823b-d3b629e8d8fa",
   "metadata": {},
   "source": [
    "#### Check Orthonormality"
   ]
  },
  {
   "cell_type": "code",
   "execution_count": 90,
   "id": "bdefccf5-b9fe-4df6-9966-fb518f3b6dfe",
   "metadata": {},
   "outputs": [
    {
     "data": {
      "text/latex": [
       "$\\displaystyle \\left[\\begin{matrix}1 & 0 & 0 & 0\\\\0 & 1 & 0 & 0\\\\0 & 0 & 1 & 0\\\\0 & 0 & 0 & 1\\end{matrix}\\right]$"
      ],
      "text/plain": [
       "⎡1  0  0  0⎤\n",
       "⎢          ⎥\n",
       "⎢0  1  0  0⎥\n",
       "⎢          ⎥\n",
       "⎢0  0  1  0⎥\n",
       "⎢          ⎥\n",
       "⎣0  0  0  1⎦"
      ]
     },
     "execution_count": 90,
     "metadata": {},
     "output_type": "execute_result"
    }
   ],
   "source": [
    "Matrix([[rs_gs[s1].dot(rs_gs[s2]) for s1 in range(r)] for s2 in range(r)])"
   ]
  },
  {
   "cell_type": "markdown",
   "id": "5197b411-4eda-4cc4-9a54-95ac15d38637",
   "metadata": {},
   "source": [
    "#### Let's turn the basis vectors into a matrix that will change column space basis coordinates Euclidian co-domain vectors"
   ]
  },
  {
   "cell_type": "code",
   "execution_count": 91,
   "id": "d79cce8a-5ff1-4d73-ad1c-b0041b4f6da9",
   "metadata": {},
   "outputs": [
    {
     "data": {
      "text/latex": [
       "$\\displaystyle \\left[\\begin{matrix}0.225 & -0.0705 & 0.0948 & -0.0631\\\\0.0973 & 0.445 & 0.274 & 0.234\\\\0.115 & 0.255 & 0.518 & -0.0536\\\\0.231 & 0.695 & -0.255 & -0.565\\\\0.267 & 0.172 & 0.203 & 0.563\\\\0.565 & -0.355 & -0.281 & -0.172\\\\0.602 & -0.224 & 0.407 & -0.162\\\\0.346 & 0.208 & -0.545 & 0.497\\end{matrix}\\right]$"
      ],
      "text/plain": [
       "⎡0.225   -0.0705  0.0948  -0.0631⎤\n",
       "⎢                                ⎥\n",
       "⎢0.0973   0.445   0.274    0.234 ⎥\n",
       "⎢                                ⎥\n",
       "⎢0.115    0.255   0.518   -0.0536⎥\n",
       "⎢                                ⎥\n",
       "⎢0.231    0.695   -0.255  -0.565 ⎥\n",
       "⎢                                ⎥\n",
       "⎢0.267    0.172   0.203    0.563 ⎥\n",
       "⎢                                ⎥\n",
       "⎢0.565   -0.355   -0.281  -0.172 ⎥\n",
       "⎢                                ⎥\n",
       "⎢0.602   -0.224   0.407   -0.162 ⎥\n",
       "⎢                                ⎥\n",
       "⎣0.346    0.208   -0.545   0.497 ⎦"
      ]
     },
     "execution_count": 91,
     "metadata": {},
     "output_type": "execute_result"
    }
   ],
   "source": [
    "vr=Matrix.hstack(*(cs_gs[s] for s in range(r)))\n",
    "vr.evalf(3) # again for simple display"
   ]
  },
  {
   "cell_type": "markdown",
   "id": "a04bb9d6-3541-46e9-a08a-d4a88c60ccbd",
   "metadata": {},
   "source": [
    "#### Check all the orthonormality conditions again"
   ]
  },
  {
   "cell_type": "code",
   "execution_count": 92,
   "id": "e8315926-8f3d-463d-9ad0-01956e46eb8c",
   "metadata": {},
   "outputs": [
    {
     "data": {
      "text/latex": [
       "$\\displaystyle \\left[\\begin{matrix}1 & 0 & 0 & 0\\\\0 & 1 & 0 & 0\\\\0 & 0 & 1 & 0\\\\0 & 0 & 0 & 1\\end{matrix}\\right]$"
      ],
      "text/plain": [
       "⎡1  0  0  0⎤\n",
       "⎢          ⎥\n",
       "⎢0  1  0  0⎥\n",
       "⎢          ⎥\n",
       "⎢0  0  1  0⎥\n",
       "⎢          ⎥\n",
       "⎣0  0  0  1⎦"
      ]
     },
     "execution_count": 92,
     "metadata": {},
     "output_type": "execute_result"
    }
   ],
   "source": [
    "vr.T*vr"
   ]
  },
  {
   "cell_type": "markdown",
   "id": "0d66430e-652f-40eb-9d19-70ed5efd5b30",
   "metadata": {},
   "source": [
    "### Null Space again"
   ]
  },
  {
   "cell_type": "code",
   "execution_count": 93,
   "id": "65bf2b35-b103-4e37-b578-8a4910aca0ef",
   "metadata": {},
   "outputs": [
    {
     "data": {
      "image/png": "[encoded data removed]",
      "text/latex": [
       "$\\displaystyle \\left[ \\right]$"
      ],
      "text/plain": [
       "[]"
      ]
     },
     "execution_count": 93,
     "metadata": {},
     "output_type": "execute_result"
    }
   ],
   "source": [
    "ns_gs = GramSchmidt(null_space, True)\n",
    "# to display okay round to 3 decimals \n",
    "[ns_gs[l].evalf(3) for l in range(k)]"
   ]
  },
  {
   "cell_type": "markdown",
   "id": "a5c52964-1b12-4618-80a5-041b2ac28ffb",
   "metadata": {},
   "source": [
    "#### Check Orthonormality"
   ]
  },
  {
   "cell_type": "code",
   "execution_count": 94,
   "id": "be957a71-ef67-49d3-8de2-5d4f05557603",
   "metadata": {},
   "outputs": [
    {
     "data": {
      "text/latex": [
       "$\\displaystyle \\left[\\begin{matrix}\\end{matrix}\\right]$"
      ],
      "text/plain": [
       "[]"
      ]
     },
     "execution_count": 94,
     "metadata": {},
     "output_type": "execute_result"
    }
   ],
   "source": [
    "Matrix([[ns_gs[l1].dot(ns_gs[l2]) for l1 in range(k)] for l2 in range(k)])"
   ]
  },
  {
   "cell_type": "markdown",
   "id": "17669f02-e489-4fe8-85ae-c3d7c8f5c8d1",
   "metadata": {},
   "source": [
    "### Check orthogonality of row space and null space bases"
   ]
  },
  {
   "cell_type": "code",
   "execution_count": 95,
   "id": "2d2e231d-aa11-4de9-b767-f7f27f37f868",
   "metadata": {},
   "outputs": [
    {
     "data": {
      "image/png": "[encoded data removed]",
      "text/latex": [
       "$\\displaystyle \\left[ \\left[ \\right], \\  \\left[ \\right], \\  \\left[ \\right], \\  \\left[ \\right]\\right]$"
      ],
      "text/plain": [
       "[[], [], [], []]"
      ]
     },
     "execution_count": 95,
     "metadata": {},
     "output_type": "execute_result"
    }
   ],
   "source": [
    "[[rs_gs[s].dot(ns_gs[l]) for l in range(k)] for s in range(r)]"
   ]
  },
  {
   "cell_type": "markdown",
   "id": "70ecff48-c9e6-4b28-922a-5cd9cc129074",
   "metadata": {},
   "source": [
    "### We can use the orthonormal basis for the row space to project an arbitrary vector from the domain to the row space"
   ]
  },
  {
   "cell_type": "markdown",
   "id": "4046d084-09c5-4589-8293-5833d9f5a22c",
   "metadata": {},
   "source": [
    "Since each vector in the row space basis is orthonormal we can get the components to multiply each by to get the linear combination of the vector.\n",
    "This would be the same as multiplying by the transpose of the matrix created by using the basis vectors of the row space as column vectors of a new matrix"
   ]
  },
  {
   "cell_type": "code",
   "execution_count": 96,
   "id": "d12ea372-dd9f-4c72-ba2d-e05472206a32",
   "metadata": {},
   "outputs": [
    {
     "data": {
      "text/latex": [
       "$\\displaystyle \\left[\\begin{matrix}1.0 & 0 & 0 & 0\\\\0 & 1.0 & 0 & 0\\\\0 & 0 & 1.0 & 0\\\\0 & 0 & 0 & 1.0\\end{matrix}\\right]$"
      ],
      "text/plain": [
       "⎡1.0   0    0    0 ⎤\n",
       "⎢                  ⎥\n",
       "⎢ 0   1.0   0    0 ⎥\n",
       "⎢                  ⎥\n",
       "⎢ 0    0   1.0   0 ⎥\n",
       "⎢                  ⎥\n",
       "⎣ 0    0    0   1.0⎦"
      ]
     },
     "execution_count": 96,
     "metadata": {},
     "output_type": "execute_result"
    }
   ],
   "source": [
    "ur=Matrix.hstack(*(rs_gs[s] for s in range(r)))\n",
    "ur.evalf(3) # again for simple display"
   ]
  },
  {
   "cell_type": "markdown",
   "id": "4e819229-063a-43c9-b286-e8cc4ba60cb6",
   "metadata": {},
   "source": [
    "### Similarly, we can use the orthonormal basis for the null space to project an arbitrary vector from the domain to the null space"
   ]
  },
  {
   "cell_type": "markdown",
   "id": "3edc3ddf-44e6-47df-93b0-f73fb384c0bb",
   "metadata": {},
   "source": [
    "Since each vector in the null space basis is orthonormal we can get the components to multiply each by to get the linear combination of the vector.\n",
    "This would be the same as multiplying by the transpose of the matrix created by using the basis vectors of the null space as column vectors of a new matrix"
   ]
  },
  {
   "cell_type": "code",
   "execution_count": 97,
   "id": "6b97ffd1-5b21-47bc-aac9-2a7980161ee6",
   "metadata": {},
   "outputs": [
    {
     "data": {
      "text/latex": [
       "$\\displaystyle \\left[\\begin{matrix}\\end{matrix}\\right]$"
      ],
      "text/plain": [
       "[]"
      ]
     },
     "execution_count": 97,
     "metadata": {},
     "output_type": "execute_result"
    }
   ],
   "source": [
    "uk=Matrix.hstack(*(ns_gs[l] for l in range(k)))\n",
    "uk.evalf(3) # again for simple display"
   ]
  },
  {
   "cell_type": "markdown",
   "id": "0f4ea80d-39fb-4cd4-8661-9c267eb652fe",
   "metadata": {},
   "source": [
    "#### Check all the orthonormality and orthogonality conditions again"
   ]
  },
  {
   "cell_type": "code",
   "execution_count": 98,
   "id": "97278dc8-48fe-4feb-9747-5007673c2c71",
   "metadata": {},
   "outputs": [
    {
     "data": {
      "text/latex": [
       "$\\displaystyle \\left[\\begin{matrix}1 & 0 & 0 & 0\\\\0 & 1 & 0 & 0\\\\0 & 0 & 1 & 0\\\\0 & 0 & 0 & 1\\end{matrix}\\right]$"
      ],
      "text/plain": [
       "⎡1  0  0  0⎤\n",
       "⎢          ⎥\n",
       "⎢0  1  0  0⎥\n",
       "⎢          ⎥\n",
       "⎢0  0  1  0⎥\n",
       "⎢          ⎥\n",
       "⎣0  0  0  1⎦"
      ]
     },
     "execution_count": 98,
     "metadata": {},
     "output_type": "execute_result"
    }
   ],
   "source": [
    "ur.T*ur"
   ]
  },
  {
   "cell_type": "code",
   "execution_count": 99,
   "id": "5e83d181-ac82-4c9e-aa96-a16350744efa",
   "metadata": {},
   "outputs": [],
   "source": [
    "if k>0:\n",
    "    uk.T*uk, ur.T*uk, uk.T*ur"
   ]
  },
  {
   "cell_type": "markdown",
   "id": "2eb7372b-3074-418b-987d-cf23490025d1",
   "metadata": {},
   "source": [
    "## Let's find a matrix that caputres the essense of the transformation in 1-to-1 onto map from the row space to the column space in the bases we chose"
   ]
  },
  {
   "cell_type": "code",
   "execution_count": 100,
   "id": "a549a2a6-dd99-4c71-af2d-fa4ba128cc15",
   "metadata": {},
   "outputs": [],
   "source": [
    "Mr = (vr.T)*A*ur"
   ]
  },
  {
   "cell_type": "code",
   "execution_count": 101,
   "id": "71550c62-2928-427d-b065-e3d56c832a21",
   "metadata": {},
   "outputs": [
    {
     "data": {
      "text/latex": [
       "$\\displaystyle \\left[\\begin{matrix}165.0 & 135.0 & 123.0 & 74.8\\\\0 & 91.7 & 97.5 & 75.7\\\\0 & 0 & 75.2 & 14.2\\\\0 & 0 & 0 & 60.6\\end{matrix}\\right]$"
      ],
      "text/plain": [
       "⎡165.0  135.0  123.0  74.8⎤\n",
       "⎢                         ⎥\n",
       "⎢  0    91.7   97.5   75.7⎥\n",
       "⎢                         ⎥\n",
       "⎢  0      0    75.2   14.2⎥\n",
       "⎢                         ⎥\n",
       "⎣  0      0      0    60.6⎦"
      ]
     },
     "execution_count": 101,
     "metadata": {},
     "output_type": "execute_result"
    }
   ],
   "source": [
    "Mr.evalf(3) # three decimal display for readability"
   ]
  },
  {
   "cell_type": "markdown",
   "id": "58cda321-3631-4e90-9be2-da30fe5232bb",
   "metadata": {},
   "source": [
    "### Let's make sure it is invertable"
   ]
  },
  {
   "cell_type": "code",
   "execution_count": 102,
   "id": "e9db5a9e-a82e-47c4-8bdf-78c90b67b6bb",
   "metadata": {},
   "outputs": [
    {
     "data": {
      "text/latex": [
       "$\\displaystyle \\left[\\begin{matrix}0.00608 & -0.00898 & 0.00167 & 0.00332\\\\0 & 0.0109 & -0.0141 & -0.0103\\\\0 & 0 & 0.0133 & -0.00311\\\\0 & 0 & 0 & 0.0165\\end{matrix}\\right]$"
      ],
      "text/plain": [
       "⎡0.00608  -0.00898  0.00167  0.00332 ⎤\n",
       "⎢                                    ⎥\n",
       "⎢   0      0.0109   -0.0141  -0.0103 ⎥\n",
       "⎢                                    ⎥\n",
       "⎢   0        0      0.0133   -0.00311⎥\n",
       "⎢                                    ⎥\n",
       "⎣   0        0         0      0.0165 ⎦"
      ]
     },
     "execution_count": 102,
     "metadata": {},
     "output_type": "execute_result"
    }
   ],
   "source": [
    "mrinv = Mr.inv(method=\"LU\") \n",
    "#mrinv = Mr.evalf(100).inv(method=\"LU\") # If not numerical, it is very slow (but numerical creates rounding error)\n",
    "mrinv.evalf(3) # three decimal display for readability"
   ]
  },
  {
   "cell_type": "code",
   "execution_count": 109,
   "id": "2b34522d-2720-4a5e-ba41-a7b10eebff0b",
   "metadata": {},
   "outputs": [
    {
     "data": {
      "text/latex": [
       "$\\displaystyle \\left( \\left[\\begin{matrix}1.0 & 0 & 0 & 3.0 \\cdot 10^{-114}\\\\0 & 1.0 & 0 & -3.0 \\cdot 10^{-114}\\\\0 & 0 & 1.0 & 0\\\\0 & 0 & 0 & 1.0\\end{matrix}\\right], \\  \\left[\\begin{matrix}1.0 & 0 & 0 & 0\\\\0 & 1.0 & 0 & 0\\\\0 & 0 & 1.0 & 2.0 \\cdot 10^{-115}\\\\0 & 0 & 0 & 1.0\\end{matrix}\\right]\\right)$"
      ],
      "text/plain": [
       "⎛⎡1.0   0    0   0.e-114 ⎤  ⎡1.0   0    0      0   ⎤⎞\n",
       "⎜⎢                       ⎥  ⎢                      ⎥⎟\n",
       "⎜⎢ 0   1.0   0   -0.e-114⎥  ⎢ 0   1.0   0      0   ⎥⎟\n",
       "⎜⎢                       ⎥, ⎢                      ⎥⎟\n",
       "⎜⎢ 0    0   1.0     0    ⎥  ⎢ 0    0   1.0  0.e-115⎥⎟\n",
       "⎜⎢                       ⎥  ⎢                      ⎥⎟\n",
       "⎝⎣ 0    0    0     1.0   ⎦  ⎣ 0    0    0     1.0  ⎦⎠"
      ]
     },
     "execution_count": 109,
     "metadata": {},
     "output_type": "execute_result"
    }
   ],
   "source": [
    "(mrinv*Mr).evalf(3), (Mr*mrinv).evalf(3) # need to stay at 3 decimal to display\n",
    "#mrinv*Mr, Mr*mrinv"
   ]
  },
  {
   "cell_type": "markdown",
   "id": "8f69b1b9-da01-422a-883c-a5932fadb578",
   "metadata": {},
   "source": [
    "### Let's check that the composition is A"
   ]
  },
  {
   "cell_type": "code",
   "execution_count": 110,
   "id": "eec9ac70-7c14-4839-981b-9c73921b3fd9",
   "metadata": {},
   "outputs": [
    {
     "data": {
      "text/plain": [
       "True"
      ]
     },
     "execution_count": 110,
     "metadata": {},
     "output_type": "execute_result"
    }
   ],
   "source": [
    "vr*(vr.T)*A*ur*(ur.T)==A"
   ]
  },
  {
   "cell_type": "code",
   "execution_count": 111,
   "id": "b7374269-fc7c-429d-8171-535ece3bdb19",
   "metadata": {},
   "outputs": [
    {
     "data": {
      "text/plain": [
       "True"
      ]
     },
     "execution_count": 111,
     "metadata": {},
     "output_type": "execute_result"
    }
   ],
   "source": [
    "(vr.T)*A*ur==Mr"
   ]
  },
  {
   "cell_type": "code",
   "execution_count": 112,
   "id": "32d5f1ed-7055-470f-bd26-22d486f2a8f9",
   "metadata": {},
   "outputs": [
    {
     "data": {
      "text/plain": [
       "True"
      ]
     },
     "execution_count": 112,
     "metadata": {},
     "output_type": "execute_result"
    }
   ],
   "source": [
    "vr*Mr*(ur.T)==A "
   ]
  },
  {
   "cell_type": "code",
   "execution_count": null,
   "id": "115cfa1c-1966-4f56-b726-b065fe93d43e",
   "metadata": {},
   "outputs": [],
   "source": []
  }
 ],
 "metadata": {
  "kernelspec": {
   "display_name": "Python 3 (ipykernel)",
   "language": "python",
   "name": "python3"
  },
  "language_info": {
   "codemirror_mode": {
    "name": "ipython",
    "version": 3
   },
   "file_extension": ".py",
   "mimetype": "text/x-python",
   "name": "python",
   "nbconvert_exporter": "python",
   "pygments_lexer": "ipython3",
   "version": "3.10.12"
  }
 },
 "nbformat": 4,
 "nbformat_minor": 5
}
